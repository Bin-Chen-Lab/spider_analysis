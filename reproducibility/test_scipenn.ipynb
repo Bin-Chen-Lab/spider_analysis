{
 "cells": [
  {
   "cell_type": "code",
   "execution_count": 1,
   "metadata": {},
   "outputs": [],
   "source": [
    "%load_ext autoreload\n",
    "%autoreload 2\n",
    "\n",
    "import numpy as np\n",
    "from matplotlib import pyplot\n",
    "import os\n",
    "from copy import deepcopy\n",
    "\n",
    "from time import time\n",
    "\n",
    "from math import ceil\n",
    "from scipy.stats import spearmanr, gamma, poisson\n",
    "\n",
    "from anndata import AnnData, read_h5ad\n",
    "import scanpy as sc\n",
    "from scanpy import read\n",
    "import pandas as pd\n",
    "\n",
    "from torch.utils.data import DataLoader, TensorDataset\n",
    "from torch import tensor\n",
    "from torch.cuda import is_available\n",
    "\n",
    "from sciPENN.sciPENN_API import sciPENN_API\n",
    "import os"
   ]
  },
  {
   "cell_type": "code",
   "execution_count": 6,
   "metadata": {},
   "outputs": [],
   "source": [
    "adata_gene_train1 = sc.read('RNA_lognormalized_GSE143363_20231126.h5ad')\n",
    "adata_gene_train2 = sc.read('RNA_lognormalized_GSM4972212_20231126.h5ad')\n",
    "adata_gene_train3 = sc.read('RNA_lognormalized_GSM5008738_20231126.h5ad')\n",
    "adata_gene_train4 = sc.read('RNA_lognormalized_GSM5242791_20231126.h5ad')\n",
    "adata_gene_train5 = sc.read('RNA_lognormalized_GSM5242793_20231126.h5ad')\n",
    "adata_gene_train6 = sc.read('RNA_lognormalized_TS_NI_2021_BM_20231126.h5ad')"
   ]
  },
  {
   "cell_type": "code",
   "execution_count": 9,
   "metadata": {},
   "outputs": [],
   "source": [
    "adata_protein_train1 = sc.read('ADT_CLR_normalized_GSE143363_20231126.h5ad')\n",
    "adata_protein_train2 = sc.read('ADT_CLR_normalized_GSM4972212_20231126.h5ad')\n",
    "adata_protein_train3 = sc.read('ADT_CLR_normalized_GSM5008738_20231126.h5ad')\n",
    "adata_protein_train4 = sc.read('ADT_CLR_normalized_GSM5242791_20231126.h5ad')\n",
    "adata_protein_train5 = sc.read('ADT_CLR_normalized_GSM5242793_20231126.h5ad')\n",
    "adata_protein_train6 = sc.read('ADT_CLR_normalized_TS_NI_2021_BM_20231126.h5ad')\n"
   ]
  },
  {
   "cell_type": "code",
   "execution_count": 91,
   "metadata": {},
   "outputs": [],
   "source": [
    "#Changeable parameters:\n",
    "\n",
    "#GSM5093918:\n",
    "#adata_gene_test = sc.read('RNA_lognormalized_external_val_GSM5093918_20231126.h5ad')\n",
    "#dataset_id = 'GSM5093918'\n",
    "#feature_file = 'seen_protein_names_GSM5093918cell_features_protein_specific_DNN_training_combined_6_sets_20230115.csv'\n",
    "\n",
    "\n",
    "#GSE128639:\n",
    "#adata_gene_test = sc.read('RNA_lognormalized_external_val_GSE128639_20231126.h5ad')\n",
    "#dataset_id = 'GSE128639'\n",
    "#feature_file = 'seen_protein_names_GSE128639cell_features_protein_specific_DNN_training_combined_6_sets_20230115.csv'\n",
    "\n",
    "#GSM5025059:\n",
    "#adata_gene_test = sc.read('RNA_lognormalized_external_val_GSM5025059_20231126.h5ad')\n",
    "#dataset_id = 'GSM5025059'\n",
    "#feature_file = 'seen_protein_names_GSM5025059cell_features_protein_specific_DNN_training_combined_6_sets_20230115.csv'\n",
    "\n",
    "#GSM5025052:\n",
    "adata_gene_test = sc.read('RNA_lognormalized_external_val_GSM5025052_20231126.h5ad')\n",
    "dataset_id = 'GSM5025052'\n",
    "feature_file = 'seen_protein_names_GSM5025052cell_features_protein_specific_DNN_training_combined_6_sets_20230115.csv'\n"
   ]
  },
  {
   "cell_type": "code",
   "execution_count": 92,
   "metadata": {},
   "outputs": [
    {
     "name": "stdout",
     "output_type": "stream",
     "text": [
      "Searching for GPU\n",
      "GPU not detected, falling back to CPU\n",
      "\n",
      "Finding HVGs\n",
      "Warning, highly variable gene selection may not be accurate if expression is not cell normalized and log normalized\n"
     ]
    },
    {
     "name": "stderr",
     "output_type": "stream",
     "text": [
      "/home/ubuntu/chenlab_deeplearning/chenlab_deeplearning_V2/anaconda3/envs/scipennenv/lib/python3.7/site-packages/anndata/_core/anndata.py:1785: FutureWarning: X.dtype being converted to np.float32 from float64. In the next version of anndata (0.9) conversion will not be automatic. Pass dtype explicitly to avoid this warning. Pass `AnnData(X, dtype=X.dtype, ...)` to get the future behavour.\n",
      "  [AnnData(sparse.csr_matrix(a.shape), obs=a.obs) for a in all_adatas],\n"
     ]
    }
   ],
   "source": [
    "sciPENN = sciPENN_API(gene_trainsets = [adata_gene_train1, adata_gene_train2, adata_gene_train3, adata_gene_train4, adata_gene_train5, adata_gene_train6], \n",
    "                      protein_trainsets = [adata_protein_train1, adata_protein_train2, adata_protein_train3, adata_protein_train4, adata_protein_train5, adata_protein_train6], \n",
    "                      gene_test = adata_gene_test, \n",
    "                      train_batchkeys = ['study', 'study', 'study', 'study', 'study', 'study'], \n",
    "                      test_batchkey = 'study', \n",
    "                    cell_normalize = False, log_normalize = False, gene_normalize = False)"
   ]
  },
  {
   "cell_type": "code",
   "execution_count": 93,
   "metadata": {},
   "outputs": [],
   "source": [
    "os.chdir('/compare_seen_protein_baseline_model/sciPENN/')"
   ]
  },
  {
   "cell_type": "code",
   "execution_count": 94,
   "metadata": {},
   "outputs": [
    {
     "name": "stdout",
     "output_type": "stream",
     "text": [
      "Epoch 0 prediction loss = 0.996\n",
      "Epoch 1 prediction loss = 0.107\n",
      "Epoch 2 prediction loss = 0.103\n",
      "Epoch 3 prediction loss = 0.101\n",
      "Epoch 4 prediction loss = 0.099\n",
      "Epoch 5 prediction loss = 0.098\n",
      "Epoch 6 prediction loss = 0.097\n",
      "Epoch 7 prediction loss = 0.096\n",
      "Epoch 8 prediction loss = 0.096\n",
      "Epoch 9 prediction loss = 0.096\n",
      "Epoch 10 prediction loss = 0.095\n",
      "Epoch 11 prediction loss = 0.095\n",
      "Epoch 12 prediction loss = 0.095\n",
      "Epoch 13 prediction loss = 0.095\n",
      "Epoch 14 prediction loss = 0.094\n",
      "Epoch 15 prediction loss = 0.094\n",
      "Epoch 16 prediction loss = 0.094\n",
      "Epoch 17 prediction loss = 0.094\n",
      "Epoch 18 prediction loss = 0.094\n",
      "Epoch 19 prediction loss = 0.093\n",
      "Epoch 20 prediction loss = 0.093\n",
      "Epoch 21 prediction loss = 0.093\n",
      "Epoch 22 prediction loss = 0.093\n",
      "Epoch 23 prediction loss = 0.093\n",
      "Epoch 24 prediction loss = 0.093\n",
      "Epoch 25 prediction loss = 0.093\n",
      "Epoch 26 prediction loss = 0.093\n",
      "Epoch 27 prediction loss = 0.094\n",
      "Epoch 28 prediction loss = 0.093\n",
      "Epoch 29 prediction loss = 0.093\n",
      "Decaying loss to 0.0001\n",
      "Epoch 30 prediction loss = 0.089\n",
      "Epoch 31 prediction loss = 0.089\n",
      "Epoch 32 prediction loss = 0.089\n",
      "Epoch 33 prediction loss = 0.089\n",
      "Epoch 34 prediction loss = 0.089\n",
      "Epoch 35 prediction loss = 0.089\n",
      "Decaying loss to 1e-05\n",
      "Epoch 36 prediction loss = 0.088\n",
      "Epoch 37 prediction loss = 0.089\n",
      "Epoch 38 prediction loss = 0.089\n",
      "Epoch 39 prediction loss = 0.088\n",
      "Epoch 40 prediction loss = 0.088\n",
      "Epoch 41 prediction loss = 0.088\n",
      "Decaying loss to 1.0000000000000002e-06\n",
      "Epoch 42 prediction loss = 0.088\n",
      "Epoch 43 prediction loss = 0.088\n",
      "Epoch 44 prediction loss = 0.088\n",
      "Epoch 45 prediction loss = 0.088\n",
      "Epoch 46 prediction loss = 0.088\n",
      "Epoch 47 prediction loss = 0.088\n",
      "Decaying loss to 1.0000000000000002e-07\n",
      "Epoch 48 prediction loss = 0.088\n"
     ]
    }
   ],
   "source": [
    "sciPENN.train(weights_dir = \"combined_training_6_sets_external_val_\" + dataset_id, load = False)"
   ]
  },
  {
   "cell_type": "code",
   "execution_count": 95,
   "metadata": {},
   "outputs": [
    {
     "name": "stderr",
     "output_type": "stream",
     "text": [
      "/home/ubuntu/chenlab_deeplearning/chenlab_deeplearning_V2/anaconda3/envs/scipennenv/lib/python3.7/site-packages/sciPENN/Network/Model.py:211: FutureWarning: X.dtype being converted to np.float32 from float64. In the next version of anndata (0.9) conversion will not be automatic. Pass dtype explicitly to avoid this warning. Pass `AnnData(X, dtype=X.dtype, ...)` to get the future behavour.\n",
      "  imputed_test = AnnData(zeros(shape = (len(cells), len(proteins.var))))\n"
     ]
    }
   ],
   "source": [
    "predicted_test = sciPENN.predict()"
   ]
  },
  {
   "cell_type": "code",
   "execution_count": 96,
   "metadata": {},
   "outputs": [],
   "source": [
    "predicted_protein_values = pd.DataFrame(predicted_test.X, index = predicted_test.obs.index, columns = predicted_test.var_names)"
   ]
  },
  {
   "cell_type": "code",
   "execution_count": 97,
   "metadata": {},
   "outputs": [
    {
     "data": {
      "text/plain": [
       "0        CD8\n",
       "1       CD56\n",
       "2       CD25\n",
       "3     CD45RA\n",
       "4      CD11b\n",
       "5       CD45\n",
       "6      CD11c\n",
       "7       CD19\n",
       "8     HLA-DR\n",
       "9        CD4\n",
       "10     CD206\n",
       "11     CD197\n",
       "12       CD3\n",
       "Name: protein_name, dtype: object"
      ]
     },
     "execution_count": 97,
     "metadata": {},
     "output_type": "execute_result"
    }
   ],
   "source": [
    "protein_feature = pd.read_csv(feature_file)\n",
    "protein_feature['protein_name']"
   ]
  },
  {
   "cell_type": "code",
   "execution_count": 98,
   "metadata": {},
   "outputs": [],
   "source": [
    "predicted_protein_values[protein_feature['protein_name']].to_csv('predict_external_val_' + dataset_id + '_sciPENN_20231126.csv')"
   ]
  }
 ],
 "metadata": {
  "kernelspec": {
   "display_name": "scipennenv",
   "language": "python",
   "name": "python3"
  },
  "language_info": {
   "codemirror_mode": {
    "name": "ipython",
    "version": 3
   },
   "file_extension": ".py",
   "mimetype": "text/x-python",
   "name": "python",
   "nbconvert_exporter": "python",
   "pygments_lexer": "ipython3",
   "version": "3.7.0"
  }
 },
 "nbformat": 4,
 "nbformat_minor": 2
}
